{
  "nbformat": 4,
  "nbformat_minor": 0,
  "metadata": {
    "colab": {
      "provenance": []
    },
    "kernelspec": {
      "name": "python3",
      "display_name": "Python 3"
    },
    "language_info": {
      "name": "python"
    }
  },
  "cells": [
    {
      "cell_type": "code",
      "execution_count": null,
      "metadata": {
        "id": "Ueh8QClocFfw"
      },
      "outputs": [],
      "source": [
        "# Step 1: Setup and Data Loading\n",
        "\n",
        "# Import necessary libraries\n",
        "import pandas as pd\n",
        "from sklearn.model_selection import train_test_split\n",
        "from sklearn.ensemble import RandomForestClassifier\n",
        "from sklearn.metrics import accuracy_score, classification_report\n",
        "import numpy as np\n",
        "\n",
        "# Load dataset (replace 'healthcare_data.csv' with your dataset file)\n",
        "# This dataset should have features as columns and the target variable (diagnosis) in the last column\n",
        "url = 'https://raw.githubusercontent.com/jbrownlee/Datasets/master/pima-indians-diabetes.data.csv'\n",
        "column_names = ['Pregnancies', 'Glucose', 'BloodPressure', 'SkinThickness', 'Insulin', 'BMI', 'DiabetesPedigreeFunction', 'Age', 'Outcome']\n",
        "data = pd.read_csv(url, names=column_names)\n",
        "\n",
        "# Display the first few rows of the dataset\n",
        "data.head()\n",
        "\n",
        "# Step 2: Data Preprocessing\n",
        "\n",
        "# Check for missing values\n",
        "print(data.isnull().sum())\n",
        "\n",
        "# Handle missing values (if any)\n",
        "# For simplicity, we'll fill missing values with the mean of the column\n",
        "data.fillna(data.mean(), inplace=True)\n",
        "\n",
        "# Split the data into features (X) and target (y)\n",
        "X = data.iloc[:, :-1]  # Features\n",
        "y = data.iloc[:, -1]   # Target variable (diagnosis)\n",
        "\n",
        "# Split the dataset into training and testing sets\n",
        "X_train, X_test, y_train, y_test = train_test_split(X, y, test_size=0.2, random_state=42)\n",
        "\n",
        "# Step 3: Model Training\n",
        "\n",
        "# Initialize the RandomForestClassifier\n",
        "model = RandomForestClassifier(n_estimators=100, random_state=42)\n",
        "\n",
        "# Train the model\n",
        "model.fit(X_train, y_train)\n",
        "\n",
        "# Step 4: Evaluation\n",
        "\n",
        "# Make predictions on the testing set\n",
        "y_pred = model.predict(X_test)\n",
        "\n",
        "# Evaluate the model's performance\n",
        "accuracy = accuracy_score(y_test, y_pred)\n",
        "print(f\"Accuracy: {accuracy * 100:.2f}%\")\n",
        "\n",
        "# Print classification report\n",
        "print(classification_report(y_test, y_pred))\n",
        "\n",
        "# Step 5: Prediction\n",
        "\n",
        "# Make predictions with new data (replace this with new patient data)\n",
        "# For example, let's create a new sample patient data\n",
        "new_patient_data = np.array([[5, 116, 74, 0, 0, 25.6, 0.201, 30]])\n",
        "\n",
        "# Make prediction\n",
        "new_prediction = model.predict(new_patient_data)\n",
        "print(f\"New patient diagnosis: {'Disease' if new_prediction[0] == 1 else 'No Disease'}\")\n"
      ]
    }
  ]
}